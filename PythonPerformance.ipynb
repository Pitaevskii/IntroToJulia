{
 "cells": [
  {
   "cell_type": "markdown",
   "id": "29a2b0b0",
   "metadata": {},
   "source": [
    "# Julia vs. Python\n",
    "\n",
    "**Julia Workshop: Compute the future** (23/11/2023)<br>\n",
    "Presenter: Robbe Ceulemans\n",
    "\n",
    "## Estimating $\\pi$ \\[1\\]\n",
    "You have just started learning the basics of Julia, because some random person is convinced it is as easy to learn as **Python** but with better performance. Is it really? Let's put it to the test. In this notebook a simple example of estimating the value of $\\pi$ using Monte Carlo sampling is used to compare [\\[1\\]](https://blakeaw.github.io/2019-09-20-numba-vs-julia/). In a first instance a naive Python implementation is tested:"
   ]
  },
  {
   "cell_type": "code",
   "execution_count": 2,
   "id": "57d69eb4",
   "metadata": {},
   "outputs": [],
   "source": [
    "import numpy as np"
   ]
  },
  {
   "cell_type": "code",
   "execution_count": 3,
   "id": "e7ebfd29",
   "metadata": {},
   "outputs": [
    {
     "name": "stdout",
     "output_type": "stream",
     "text": [
      "Wall time: 3min 21s\n",
      "3.14189432\n",
      "Wall time: 3min 19s\n",
      "3.1416846\n",
      "Wall time: 3min 20s\n",
      "3.14152272\n"
     ]
    }
   ],
   "source": [
    "def estimate_pi(nMC):\n",
    "    radius = 1.\n",
    "    diameter = 2.*radius\n",
    "    n_circle = 0\n",
    "    for i in range(nMC):\n",
    "        x = (np.random.random()-0.5)*diameter\n",
    "        y = (np.random.random()-0.5)*diameter\n",
    "        r = np.sqrt(x**2 + y**2)\n",
    "        if r <= radius:\n",
    "           n_circle += 1\n",
    "    return 4.*n_circle/nMC\n",
    "\n",
    "nMC = 100000000\n",
    "for i in range(3):\n",
    "    %time pi_est = estimate_pi(nMC)\n",
    "    print(pi_est)"
   ]
  },
  {
   "cell_type": "markdown",
   "id": "f21e309d",
   "metadata": {},
   "source": [
    "Not the best result, but we shouldn't discredit Python too much, because this can be optimized much more. The `numpy` library can be used to a greater extent besides the random number generating done in this example.<br>\n",
    "<br>\n",
    "In the next example the `for`-loop, that has a notoriously bad performance in Python, is traded for a vectorized solution."
   ]
  },
  {
   "cell_type": "code",
   "execution_count": 4,
   "id": "199a5511",
   "metadata": {},
   "outputs": [
    {
     "name": "stdout",
     "output_type": "stream",
     "text": [
      "78543996\n",
      "Wall time: 3.52 s\n",
      "3.14175984\n",
      "78524953\n",
      "Wall time: 3.61 s\n",
      "3.14099812\n",
      "78541727\n",
      "Wall time: 3.61 s\n",
      "3.14166908\n"
     ]
    }
   ],
   "source": [
    "def estimate_pi(nMC):\n",
    "    radius = 1.\n",
    "    diameter = 2.*radius\n",
    "    xy = (np.random.random((nMC,2))-0.5) * diameter\n",
    "    r = np.sqrt((xy**2).sum(axis=1))\n",
    "    circle_mask = r <= radius\n",
    "    n_circle = r[circle_mask].shape[0]\n",
    "    print(n_circle)\n",
    "    return 4.*n_circle/nMC\n",
    "\n",
    "nMC = 100000000\n",
    "for i in range(3):\n",
    "    %time pi_est = estimate_pi(nMC)\n",
    "    print(pi_est)"
   ]
  },
  {
   "cell_type": "markdown",
   "id": "b8ed8744",
   "metadata": {},
   "source": [
    "Clearly a great improvement compared to the naive implementation. We gain almost a factor 60 in speed. It does require rewriting (vectorizing) the code, which is possible in this case, but certainly not all the time.<br>\n",
    "<br>\n",
    "An argument that is often brought up as to why Julia is redundant is that there are extensions to Python that also make use of the JIT-compilation. Simply adding one line of code to the naive implementation in Python gives a remarkable speedup."
   ]
  },
  {
   "cell_type": "code",
   "execution_count": 5,
   "id": "b8f59e2c",
   "metadata": {},
   "outputs": [
    {
     "name": "stdout",
     "output_type": "stream",
     "text": [
      "Wall time: 1.57 s\n",
      "3.14142704\n",
      "Wall time: 1.08 s\n",
      "3.14172028\n",
      "Wall time: 1.08 s\n",
      "3.14148556\n"
     ]
    }
   ],
   "source": [
    "import numba\n",
    "\n",
    "@numba.njit\n",
    "def estimate_pi(nMC):\n",
    "    radius = 1.\n",
    "    diameter = 2.*radius\n",
    "    n_circle = 0\n",
    "    for i in range(nMC):\n",
    "        x = (np.random.random()-0.5)*diameter\n",
    "        y = (np.random.random()-0.5)*diameter\n",
    "        r = np.sqrt(x**2 + y**2)\n",
    "        if r <= radius:\n",
    "           n_circle += 1\n",
    "    return 4.*n_circle/nMC\n",
    "\n",
    "nMC = 100000000\n",
    "for i in range(3):\n",
    "    %time pi_est = estimate_pi(nMC)\n",
    "    print(pi_est)"
   ]
  },
  {
   "cell_type": "markdown",
   "id": "fac2c523",
   "metadata": {},
   "source": [
    "It's a staggering 180 times faster. So why the need for Julia when packages like Cython and Numba exist? Well, these packages are not guaranteed to speedup all Python functions. There application is limited. Python code was never designed to be compiled.<br>\n",
    "<br>\n",
    "What about Julia's performance for this problem?"
   ]
  },
  {
   "cell_type": "code",
   "execution_count": 5,
   "id": "b352e6a7",
   "metadata": {},
   "outputs": [
    {
     "data": {
      "text/plain": [
       "BenchmarkTools.Trial: 14 samples with 1 evaluation.\n",
       " Range \u001b[90m(\u001b[39m\u001b[36m\u001b[1mmin\u001b[22m\u001b[39m … \u001b[35mmax\u001b[39m\u001b[90m):  \u001b[39m\u001b[36m\u001b[1m371.945 ms\u001b[22m\u001b[39m … \u001b[35m383.556 ms\u001b[39m  \u001b[90m┊\u001b[39m GC \u001b[90m(\u001b[39mmin … max\u001b[90m): \u001b[39m0.00% … 0.00%\n",
       " Time  \u001b[90m(\u001b[39m\u001b[34m\u001b[1mmedian\u001b[22m\u001b[39m\u001b[90m):     \u001b[39m\u001b[34m\u001b[1m377.653 ms               \u001b[22m\u001b[39m\u001b[90m┊\u001b[39m GC \u001b[90m(\u001b[39mmedian\u001b[90m):    \u001b[39m0.00%\n",
       " Time  \u001b[90m(\u001b[39m\u001b[32m\u001b[1mmean\u001b[22m\u001b[39m ± \u001b[32mσ\u001b[39m\u001b[90m):   \u001b[39m\u001b[32m\u001b[1m376.895 ms\u001b[22m\u001b[39m ± \u001b[32m  4.528 ms\u001b[39m  \u001b[90m┊\u001b[39m GC \u001b[90m(\u001b[39mmean ± σ\u001b[90m):  \u001b[39m0.00% ± 0.00%\n",
       "\n",
       "  \u001b[39m█\u001b[39m█\u001b[39m \u001b[39m \u001b[39m█\u001b[39m \u001b[39m \u001b[39m \u001b[39m \u001b[39m \u001b[39m \u001b[39m \u001b[39m \u001b[39m \u001b[39m \u001b[39m \u001b[39m \u001b[39m \u001b[39m \u001b[39m \u001b[39m \u001b[39m \u001b[39m \u001b[39m \u001b[39m \u001b[39m \u001b[32m \u001b[39m\u001b[39m▁\u001b[34m \u001b[39m\u001b[39m \u001b[39m \u001b[39m \u001b[39m▁\u001b[39m▁\u001b[39m \u001b[39m \u001b[39m \u001b[39m▁\u001b[39m \u001b[39m \u001b[39m \u001b[39m \u001b[39m \u001b[39m \u001b[39m \u001b[39m▁\u001b[39m \u001b[39m \u001b[39m \u001b[39m \u001b[39m \u001b[39m \u001b[39m \u001b[39m \u001b[39m▁\u001b[39m \u001b[39m \u001b[39m \u001b[39m \u001b[39m \u001b[39m█\u001b[39m \u001b[39m \n",
       "  \u001b[39m█\u001b[39m█\u001b[39m▁\u001b[39m▁\u001b[39m█\u001b[39m▁\u001b[39m▁\u001b[39m▁\u001b[39m▁\u001b[39m▁\u001b[39m▁\u001b[39m▁\u001b[39m▁\u001b[39m▁\u001b[39m▁\u001b[39m▁\u001b[39m▁\u001b[39m▁\u001b[39m▁\u001b[39m▁\u001b[39m▁\u001b[39m▁\u001b[39m▁\u001b[39m▁\u001b[39m▁\u001b[39m▁\u001b[32m▁\u001b[39m\u001b[39m█\u001b[34m▁\u001b[39m\u001b[39m▁\u001b[39m▁\u001b[39m▁\u001b[39m█\u001b[39m█\u001b[39m▁\u001b[39m▁\u001b[39m▁\u001b[39m█\u001b[39m▁\u001b[39m▁\u001b[39m▁\u001b[39m▁\u001b[39m▁\u001b[39m▁\u001b[39m▁\u001b[39m█\u001b[39m▁\u001b[39m▁\u001b[39m▁\u001b[39m▁\u001b[39m▁\u001b[39m▁\u001b[39m▁\u001b[39m▁\u001b[39m█\u001b[39m▁\u001b[39m▁\u001b[39m▁\u001b[39m▁\u001b[39m▁\u001b[39m█\u001b[39m \u001b[39m▁\n",
       "  372 ms\u001b[90m           Histogram: frequency by time\u001b[39m          384 ms \u001b[0m\u001b[1m<\u001b[22m\n",
       "\n",
       " Memory estimate\u001b[90m: \u001b[39m\u001b[33m16 bytes\u001b[39m, allocs estimate\u001b[90m: \u001b[39m\u001b[33m1\u001b[39m."
      ]
     },
     "execution_count": 5,
     "metadata": {},
     "output_type": "execute_result"
    }
   ],
   "source": [
    "using BenchmarkTools\n",
    "function estimate_pi(nMC)\n",
    "    radius = 1.\n",
    "    diameter = 2. * radius\n",
    "    n_circle = 0\n",
    "    for i in 1:nMC\n",
    "        x = (rand() - 0.5) * diameter\n",
    "        y = (rand() - 0.5) * diameter\n",
    "        r = sqrt(x^2 + y^2)\n",
    "        if r <= radius\n",
    "           n_circle += 1\n",
    "        end\n",
    "    end\n",
    "    return (n_circle/nMC) * 4.\n",
    "end\n",
    "\n",
    "nMC = 100000000\n",
    "@benchmark pi_est = estimate_pi(nMC)"
   ]
  },
  {
   "cell_type": "markdown",
   "id": "b9702328",
   "metadata": {},
   "source": [
    "Even with the most basic implementation of the problem we still gain a factor of almost 3 in performance. Although the gap in performance is not huge, it is clear that this top-speed comes standard with Julia and is not restricted to a subset of functionalities. The solution that Julia offers is full language. It's designed with speed and performance in mind, while at the same time keeping the implementation as simple as possible.<br>\n",
    "<br>\n",
    "For those who are interested in exploring this further, [*the benchmarks game*](https://benchmarksgame-team.pages.debian.net/benchmarksgame/index.html) compares many different toy programs for a whole list of scripting and compiled languages, including Julia."
   ]
  },
  {
   "cell_type": "markdown",
   "id": "6c11262f",
   "metadata": {},
   "source": [
    "\\[1\\] Blake A. Wilson, *Python+Numba vs. Julia; Monte Carlo estimation of Pi*,https://blakeaw.github.io/2019-09-20-numba-vs-julia/, \\[September 2019\\]."
   ]
  },
  {
   "cell_type": "markdown",
   "id": "12cf9796",
   "metadata": {},
   "source": [
    "## Lorenz attractor \\[2\\]"
   ]
  },
  {
   "cell_type": "markdown",
   "id": "aab8b8a7",
   "metadata": {},
   "source": [
    "Of course you will find benchmarks of small functions (or methods in the case of Julia) where Python can reach a similar speed as Julia or even cases where Julia is outperformed. People often use one microbenchmark comparison to make claims on the whole package, but this is no reference for real application that we want to use our programming language for. Let's look back at the problem of the Lorenz system. The `scipy` package in Python provides fundamental algorithms, including differential equation solvers. In this example the limitations of the Numba package become evident.<br>"
   ]
  },
  {
   "cell_type": "code",
   "execution_count": 2,
   "id": "41fdcaa3",
   "metadata": {},
   "outputs": [
    {
     "data": {
      "text/plain": [
       "0.06522788399999996"
      ]
     },
     "execution_count": 2,
     "metadata": {},
     "output_type": "execute_result"
    }
   ],
   "source": [
    "import numpy as np\n",
    "from scipy.integrate import odeint\n",
    "import timeit\n",
    "import numba\n",
    " \n",
    "def lorenz(u, t, sigma, rho, beta):\n",
    "    x, y, z = u\n",
    "    return [sigma * (y - x), x * (rho - z) - y, x * y - beta * z]\n",
    " \n",
    "u0 = [1.0,0.0,0.0]\n",
    "tspan = (0., 100.)\n",
    "t = np.linspace(0, 100, 1001)\n",
    "sol = odeint(lorenz, u0, t, args=(10.0,28.0,8/3))\n",
    "\n",
    "def time_func():\n",
    "    odeint(lorenz, u0, t, args=(10.0,28.0,8/3),rtol = 1e-8, atol=1e-8)\n",
    " \n",
    "time_func()\n",
    "timeit.Timer(time_func).timeit(number=100)/100 "
   ]
  },
  {
   "cell_type": "code",
   "execution_count": 3,
   "id": "5129fb53",
   "metadata": {},
   "outputs": [
    {
     "data": {
      "text/plain": [
       "0.04027017799999996"
      ]
     },
     "execution_count": 3,
     "metadata": {},
     "output_type": "execute_result"
    }
   ],
   "source": [
    "numba_f = numba.jit(lorenz,nopython=True)\n",
    "def time_func():\n",
    "    odeint(numba_f, u0, t, args=(10.0,28.0,8/3),rtol = 1e-8, atol=1e-8)\n",
    " \n",
    "time_func()\n",
    "timeit.Timer(time_func).timeit(number=100)/100 "
   ]
  },
  {
   "cell_type": "markdown",
   "id": "fe828db5",
   "metadata": {},
   "source": [
    "Where you can optimize the function `lorenz()` itself, which is called (multiple times) at each timestep, it is not possible to further optimize the code that sits between to of your optimized function calls. This is exactly what can hurt your performance."
   ]
  },
  {
   "cell_type": "markdown",
   "id": "337af602",
   "metadata": {},
   "source": [
    "Now you can allow the function to be Julia code using the very recent `diffeqpy` library which introduces the *DifferentialEquations.jl* package to python."
   ]
  },
  {
   "cell_type": "code",
   "execution_count": 5,
   "id": "dc253937-de3d-4fe5-981c-3bf79207a873",
   "metadata": {},
   "outputs": [],
   "source": [
    "import julia\n",
    "julia.install()"
   ]
  },
  {
   "cell_type": "code",
   "execution_count": 6,
   "id": "5e10508b-c218-4106-8a54-135b778eb46f",
   "metadata": {},
   "outputs": [],
   "source": [
    "from julia.api import Julia"
   ]
  },
  {
   "cell_type": "code",
   "execution_count": 7,
   "id": "0dd89304-e8e9-4949-9759-80fc980c673f",
   "metadata": {},
   "outputs": [
    {
     "ename": "ImportError",
     "evalue": "cannot import name 'Main' from 'julia' (C:\\Users\\robbe\\AppData\\Roaming\\Python\\Python312\\site-packages\\julia\\__init__.py)",
     "output_type": "error",
     "traceback": [
      "\u001b[1;31m---------------------------------------------------------------------------\u001b[0m",
      "\u001b[1;31mImportError\u001b[0m                               Traceback (most recent call last)",
      "Cell \u001b[1;32mIn[7], line 1\u001b[0m\n\u001b[1;32m----> 1\u001b[0m \u001b[38;5;28;01mfrom\u001b[39;00m \u001b[38;5;21;01mjulia\u001b[39;00m \u001b[38;5;28;01mimport\u001b[39;00m Main\n",
      "\u001b[1;31mImportError\u001b[0m: cannot import name 'Main' from 'julia' (C:\\Users\\robbe\\AppData\\Roaming\\Python\\Python312\\site-packages\\julia\\__init__.py)"
     ]
    }
   ],
   "source": [
    "from julia import Main"
   ]
  },
  {
   "cell_type": "code",
   "execution_count": 1,
   "id": "00f03f06",
   "metadata": {},
   "outputs": [
    {
     "ename": "ModuleNotFoundError",
     "evalue": "No module named 'julia'",
     "output_type": "error",
     "traceback": [
      "\u001b[1;31m---------------------------------------------------------------------------\u001b[0m",
      "\u001b[1;31mModuleNotFoundError\u001b[0m                       Traceback (most recent call last)",
      "\u001b[1;32m~\\AppData\\Local\\Temp\\ipykernel_20848\\2648870478.py\u001b[0m in \u001b[0;36m<module>\u001b[1;34m\u001b[0m\n\u001b[1;32m----> 1\u001b[1;33m \u001b[1;32mfrom\u001b[0m \u001b[0mjulia\u001b[0m \u001b[1;32mimport\u001b[0m \u001b[0mMain\u001b[0m\u001b[1;33m\u001b[0m\u001b[1;33m\u001b[0m\u001b[0m\n\u001b[0m\u001b[0;32m      2\u001b[0m \u001b[1;32mfrom\u001b[0m \u001b[0mdiffeqpy\u001b[0m \u001b[1;32mimport\u001b[0m \u001b[0mde\u001b[0m\u001b[1;33m\u001b[0m\u001b[1;33m\u001b[0m\u001b[0m\n\u001b[0;32m      3\u001b[0m \u001b[1;32mimport\u001b[0m \u001b[0mnumpy\u001b[0m \u001b[1;32mas\u001b[0m \u001b[0mnp\u001b[0m\u001b[1;33m\u001b[0m\u001b[1;33m\u001b[0m\u001b[0m\n\u001b[0;32m      4\u001b[0m jul_lorenz = Main.eval(\"\"\"\n\u001b[0;32m      5\u001b[0m \u001b[0mfunction\u001b[0m \u001b[0mf\u001b[0m\u001b[1;33m(\u001b[0m\u001b[0mdu\u001b[0m\u001b[1;33m,\u001b[0m\u001b[0mu\u001b[0m\u001b[1;33m,\u001b[0m\u001b[0mp\u001b[0m\u001b[1;33m,\u001b[0m\u001b[0mt\u001b[0m\u001b[1;33m)\u001b[0m\u001b[1;33m\u001b[0m\u001b[1;33m\u001b[0m\u001b[0m\n",
      "\u001b[1;31mModuleNotFoundError\u001b[0m: No module named 'julia'"
     ]
    }
   ],
   "source": [
    "from julia import Main\n",
    "from diffeqpy import de\n",
    "import numpy as np\n",
    "jul_lorenz = Main.eval(\"\"\"\n",
    "function f(du,u,p,t)\n",
    "  x, y, z = u[1], u[2], u[3]\n",
    "  sigma, rho, beta = p[1], p[2], p[3]\n",
    "  du[1] = sigma * (y - x)\n",
    "  du[2] = x * (rho - z) - y\n",
    "  du[3] = x * y - beta * z\n",
    "end\"\"\")\n",
    "u0 = [1.0,0.0,0.0]\n",
    "tspan = (0., 100.)\n",
    "t = np.linspace(0, 100, 1001)\n",
    "p = [10.0,28.0,8/3]\n",
    "prob = de.ODEProblem(jul_lorenz, u0, tspan, p)\n",
    "sol = de.solve(prob,saveat=t,abstol=1e-8,reltol=1e-8)\n",
    " \n",
    "def time_func():\n",
    "    sol = de.solve(prob,saveat=t,abstol=1e-8,reltol=1e-8)\n",
    " \n",
    "time_func()\n",
    "timeit.Timer(time_func).timeit(number=100)/100"
   ]
  },
  {
   "cell_type": "code",
   "execution_count": 11,
   "id": "94d6e200",
   "metadata": {},
   "outputs": [
    {
     "data": {
      "text/plain": [
       "⊕ (generic function with 1 method)"
      ]
     },
     "execution_count": 11,
     "metadata": {},
     "output_type": "execute_result"
    }
   ],
   "source": [
    "add(x::Int, y::Int) = x+y\n",
    "⊕(x::Int,y::Int) = add(x,y)"
   ]
  },
  {
   "cell_type": "code",
   "execution_count": 14,
   "id": "78cacf5d",
   "metadata": {},
   "outputs": [
    {
     "data": {
      "text/plain": [
       "CodeInfo(\n",
       "\u001b[90m1 ─\u001b[39m %1 = Main.add(x, y)\n",
       "\u001b[90m└──\u001b[39m      return %1\n",
       ")"
      ]
     },
     "execution_count": 14,
     "metadata": {},
     "output_type": "execute_result"
    }
   ],
   "source": [
    "@code_lowered 3 ⊕ 4"
   ]
  },
  {
   "cell_type": "markdown",
   "id": "ae869d48",
   "metadata": {},
   "source": [
    "\\[2\\] Chris Rackauckas, *Why Numba and Cython are not substitutes for Julia*, Stochastic Life, http://www.stochasticlifestyle.com/why-numba-and-cython-are-not-substitutes-for-julia/, \\[August 2018\\]"
   ]
  }
 ],
 "metadata": {
  "kernelspec": {
   "display_name": "Python 3 (ipykernel)",
   "language": "python",
   "name": "python3"
  },
  "language_info": {
   "codemirror_mode": {
    "name": "ipython",
    "version": 3
   },
   "file_extension": ".py",
   "mimetype": "text/x-python",
   "name": "python",
   "nbconvert_exporter": "python",
   "pygments_lexer": "ipython3",
   "version": "3.12.0"
  }
 },
 "nbformat": 4,
 "nbformat_minor": 5
}
